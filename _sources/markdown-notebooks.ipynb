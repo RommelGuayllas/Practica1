{
 "cells": [
  {
   "cell_type": "markdown",
   "id": "81e6bd52",
   "metadata": {},
   "source": [
    "# Lugares visitados \n",
    "\n",
    "A lo largo de mi vida he estados viviendo en algunas ciudades  del Ecuador \n",
    "![Ecuador](https://wwwnc.cdc.gov/travel/images/map-ecuador.png)\n",
    "\n",
    "\n",
    "## Guayaquil\n",
    "\n",
    "Guayaquil es una ciudad portuaria de Ecuador, conocida como la puerta de \n",
    "acceso a las playas del Pacífico y a las Islas Galápagos. A lo largo del río Guayas \n",
    "se extiende el malecón Simón Bolívar, donde está el monumento La Rotonda. En el norte,\n",
    " el barrio Las Peñas está lleno de casas coloridas. Las escaleras bordeadas de cafés y galerías de arte llegan hasta el cerro Santa Ana que incluye la capilla de Santa Ana, un faro y vistas de la ciudad.\n",
    "\n",
    "## Latacunga\n",
    "\n",
    "Latacunga, también conocida como San Vicente Mártir de Latacunga, es una ciudad ecuatoriana; cabecera cantonal del Cantón Latacunga y capital de la Provincia de Cotopaxi, así como la urbe más grande y \n",
    "poblada de la misma. \n",
    "\n",
    "## Esmeraldas\n",
    "\n",
    "La provincia de Esmeraldas es una de las 24 provincias que conforman la República del Ecuador. Esta situada en la zona geográfica conocida como región litoral o costa. Su capital administrativa es la ciudad de Esmeraldas, la cual además es su urbe más grande y poblada"
   ]
  }
 ],
 "metadata": {
  "jupytext": {
   "cell_metadata_filter": "-all",
   "formats": "md:myst",
   "text_representation": {
    "extension": ".md",
    "format_name": "myst",
    "format_version": 0.13,
    "jupytext_version": "1.11.5"
   }
  },
  "kernelspec": {
   "display_name": "Python 3",
   "language": "python",
   "name": "python3"
  },
  "language_info": {
   "codemirror_mode": {
    "name": "ipython",
    "version": 3
   },
   "file_extension": ".py",
   "mimetype": "text/x-python",
   "name": "python",
   "nbconvert_exporter": "python",
   "pygments_lexer": "ipython3",
   "version": "3.10.4"
  },
  "source_map": [
   14
  ]
 },
 "nbformat": 4,
 "nbformat_minor": 5
}